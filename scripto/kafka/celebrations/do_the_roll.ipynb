{
 "cells": [
  {
   "cell_type": "code",
   "execution_count": 8,
   "id": "822c7cd1",
   "metadata": {},
   "outputs": [],
   "source": [
    "# get all the records from PG and do some random selection\n",
    "import psycopg2 as pg\n",
    "import pandas as pd\n",
    "import pandas.io.sql as psql\n",
    "import psycopg2.extras as extras\n",
    "import sys\n",
    "\n",
    "# con = psycopg2.connect(database=\"celebration\", user=\"celebrate\", password=\"forever\", host=\"192.168.1.162\", port=\"5432\")\n",
    "# print(\"Database opened successfully\")    \n",
    "\n",
    "# cur = con.cursor()\n",
    "# cur.execute(f\"insert into song(song_title,song_added,song_class,song_offset_start,song_offset_end,song_notes) values ('{title}',now(),'testing123', {offset_start},{offset_end},'hi');\")\n",
    "# con.commit()\n",
    "# print(\"Record inserted successfully\")\n",
    "# con.close()\n",
    "\n",
    "\n",
    "connection = pg.connect(\"host=192.168.1.162 dbname=celebration user=celebrate password=forever\")\n",
    "connection.autocommit = True\n",
    "\n",
    "dataframe = psql.read_sql('SELECT * FROM song', connection)\n",
    "#product_category = psql.read_sql_query('select * from product_category', connection)"
   ]
  },
  {
   "cell_type": "code",
   "execution_count": 9,
   "id": "55282671",
   "metadata": {},
   "outputs": [
    {
     "name": "stdout",
     "output_type": "stream",
     "text": [
      "playlist_seq: 16\n",
      "<class 'int'>\n"
     ]
    }
   ],
   "source": [
    "# get next sequence for playlist\n",
    "cursor = connection.cursor()\n",
    "cursor.execute(\"SELECT nextval('playlist_seq');\")\n",
    "playlist_seq = cursor.fetchone()[0]\n",
    "print(f\"playlist_seq: {playlist_seq}\")\n",
    "print(type(playlist_seq))\n",
    "cursor.close()"
   ]
  },
  {
   "cell_type": "code",
   "execution_count": 22,
   "id": "3e2b90b7",
   "metadata": {},
   "outputs": [
    {
     "data": {
      "text/html": [
       "<div>\n",
       "<style scoped>\n",
       "    .dataframe tbody tr th:only-of-type {\n",
       "        vertical-align: middle;\n",
       "    }\n",
       "\n",
       "    .dataframe tbody tr th {\n",
       "        vertical-align: top;\n",
       "    }\n",
       "\n",
       "    .dataframe thead th {\n",
       "        text-align: right;\n",
       "    }\n",
       "</style>\n",
       "<table border=\"1\" class=\"dataframe\">\n",
       "  <thead>\n",
       "    <tr style=\"text-align: right;\">\n",
       "      <th></th>\n",
       "      <th>song_id</th>\n",
       "      <th>song_title</th>\n",
       "      <th>song_added</th>\n",
       "      <th>song_class</th>\n",
       "      <th>song_offset_start</th>\n",
       "      <th>song_offset_end</th>\n",
       "      <th>song_notes</th>\n",
       "    </tr>\n",
       "  </thead>\n",
       "  <tbody>\n",
       "    <tr>\n",
       "      <th>21</th>\n",
       "      <td>33</td>\n",
       "      <td>Santabarbara - Lucre _ Sofar Wroclaw-vQUuHdLgR...</td>\n",
       "      <td>2021-04-28 10:15:09.124079</td>\n",
       "      <td>intro</td>\n",
       "      <td>135020</td>\n",
       "      <td>137978</td>\n",
       "      <td>hi</td>\n",
       "    </tr>\n",
       "  </tbody>\n",
       "</table>\n",
       "</div>"
      ],
      "text/plain": [
       "    song_id                                         song_title  \\\n",
       "21       33  Santabarbara - Lucre _ Sofar Wroclaw-vQUuHdLgR...   \n",
       "\n",
       "                   song_added song_class  song_offset_start  song_offset_end  \\\n",
       "21 2021-04-28 10:15:09.124079      intro             135020           137978   \n",
       "\n",
       "   song_notes  \n",
       "21         hi  "
      ]
     },
     "execution_count": 22,
     "metadata": {},
     "output_type": "execute_result"
    }
   ],
   "source": [
    "# pick only intro\n",
    "df = dataframe\n",
    "df1 = df[df.song_class == \"intro\"].sample(n=2)\n",
    "df2 = df[df.song_class == \"main\"].sample(n=5)\n",
    "df3 = df[df.song_class == \"finish\"].sample(n=2)\n",
    "\n",
    "dff1 = pd.concat([df1,df2,df3])\n",
    "dff2 = dff1.drop(columns=['song_added','song_notes'])\n",
    "\n",
    "#df[df.song_class == \"intro\"]\n",
    "\n",
    "ala = 33\n",
    "df[df.song_id == ala]\n",
    "\n",
    "\n",
    "\n",
    "#dff2\n",
    "\n"
   ]
  },
  {
   "cell_type": "code",
   "execution_count": null,
   "id": "2bd0c0f0",
   "metadata": {},
   "outputs": [],
   "source": []
  },
  {
   "cell_type": "code",
   "execution_count": 11,
   "id": "04bc8a77",
   "metadata": {},
   "outputs": [
    {
     "name": "stdout",
     "output_type": "stream",
     "text": [
      "Data inserted using execute_batch() successfully...\n"
     ]
    }
   ],
   "source": [
    "# https://medium.com/analytics-vidhya/part-4-pandas-dataframe-to-postgresql-using-python-8ffdb0323c09\n",
    "# Define a function that handles and parses psycopg2 exceptions\n",
    "def show_psycopg2_exception(err):\n",
    "    # get details about the exception\n",
    "    err_type, err_obj, traceback = sys.exc_info()    \n",
    "    # get the line number when exception occured\n",
    "    line_n = traceback.tb_lineno    \n",
    "    # print the connect() error\n",
    "    print (\"\\npsycopg2 ERROR:\", err, \"on line number:\", line_n)\n",
    "    print (\"psycopg2 traceback:\", traceback, \"-- type:\", err_type) \n",
    "    # psycopg2 extensions.Diagnostics object attribute\n",
    "    #print (\"\\nextensions.Diagnostics:\", err.diag)    \n",
    "    # print the pgcode and pgerror exceptions\n",
    "    #print (\"pgerror:\", err.pgerror)\n",
    "    #print (\"pgcode:\", err.pgcode, \"\\n\")\n",
    "\n",
    "# Define function using psycopg2.extras.execute_batch() to insert the dataframe\n",
    "def execute_batch(conn, datafrm, table, page_size=150):\n",
    "    \n",
    "    # Creating a list of tupples from the dataframe values\n",
    "    tpls = [tuple(x) for x in datafrm.to_numpy()]\n",
    "    \n",
    "    # dataframe columns with Comma-separated\n",
    "    cols = ','.join(list(datafrm.columns))\n",
    "    \n",
    "    # SQL query to execute\n",
    "    sql = \"INSERT INTO %s(%s) VALUES(%%s,%%s,%%s,%%s,%%s)\" % (table, cols)\n",
    "    cursor = conn.cursor()\n",
    "    try:\n",
    "        extras.execute_batch(cursor, sql, tpls, page_size)\n",
    "        print(\"Data inserted using execute_batch() successfully...\")\n",
    "    except (Exception, pg.DatabaseError) as err:\n",
    "        # pass exception to function\n",
    "        show_psycopg2_exception(err)\n",
    "        cursor.close()\n",
    "        \n",
    "execute_batch(conn=connection, datafrm=dff2, table=\"playlist\", page_size=150)"
   ]
  },
  {
   "cell_type": "code",
   "execution_count": 12,
   "id": "179729e2",
   "metadata": {},
   "outputs": [],
   "source": [
    "# tired to add the playlist_id along the dataframe update, \n",
    "# newly added playlist will have this column values set to null, so it is easy to update it\n",
    "\n",
    "cursor = connection.cursor()\n",
    "cursor.execute(f\"update playlist set playlist_id = {playlist_seq}, playlist_added = now() where playlist_id is null;\")\n",
    "cursor.close()"
   ]
  }
 ],
 "metadata": {
  "kernelspec": {
   "display_name": "Python 3",
   "language": "python",
   "name": "python3"
  },
  "language_info": {
   "codemirror_mode": {
    "name": "ipython",
    "version": 3
   },
   "file_extension": ".py",
   "mimetype": "text/x-python",
   "name": "python",
   "nbconvert_exporter": "python",
   "pygments_lexer": "ipython3",
   "version": "3.8.5"
  }
 },
 "nbformat": 4,
 "nbformat_minor": 5
}

{
 "cells": [
  {
   "cell_type": "code",
   "execution_count": 27,
   "id": "c1f3bfef",
   "metadata": {},
   "outputs": [],
   "source": [
    "# get all the records from PG and do some random selection\n",
    "import psycopg2 as pg\n",
    "import pandas as pd\n",
    "import pandas.io.sql as psql\n",
    "import psycopg2.extras as extras\n",
    "import sys\n",
    "\n",
    "# con = psycopg2.connect(database=\"celebration\", user=\"celebrate\", password=\"forever\", host=\"192.168.1.162\", port=\"5432\")\n",
    "# print(\"Database opened successfully\")    \n",
    "\n",
    "# cur = con.cursor()\n",
    "# cur.execute(f\"insert into song(song_title,song_added,song_class,song_offset_start,song_offset_end,song_notes) values ('{title}',now(),'testing123', {offset_start},{offset_end},'hi');\")\n",
    "# con.commit()\n",
    "# print(\"Record inserted successfully\")\n",
    "# con.close()\n",
    "\n",
    "\n",
    "connection = pg.connect(\"host=192.168.1.162 dbname=celebration user=celebrate password=forever\")\n",
    "connection.autocommit = True\n",
    "\n",
    "dataframe = psql.read_sql('SELECT * FROM song', connection)\n",
    "#product_category = psql.read_sql_query('select * from product_category', connection)"
   ]
  },
  {
   "cell_type": "code",
   "execution_count": 28,
   "id": "417c274c",
   "metadata": {},
   "outputs": [
    {
     "name": "stdout",
     "output_type": "stream",
     "text": [
      "playlist_seq: 22\n",
      "<class 'int'>\n"
     ]
    }
   ],
   "source": [
    "# get next sequence for playlist\n",
    "cursor = connection.cursor()\n",
    "cursor.execute(\"SELECT nextval('playlist_seq');\")\n",
    "playlist_seq = cursor.fetchone()[0]\n",
    "print(f\"playlist_seq: {playlist_seq}\")\n",
    "print(type(playlist_seq))\n",
    "cursor.close()"
   ]
  },
  {
   "cell_type": "code",
   "execution_count": 29,
   "id": "32af6171",
   "metadata": {},
   "outputs": [
    {
     "name": "stdout",
     "output_type": "stream",
     "text": [
      "    song_id                                         song_title song_class\n",
      "21       33  Santabarbara - Lucre _ Sofar Wroclaw-vQUuHdLgR...      intro\n",
      "24       40  Tangerine Dream - Ricochet (State Azure Cover)...      intro\n",
      "27       16  Ly-O-Lay Ale Loya (The Counterclockwise Circle...       main\n",
      "28       20  Deva Premal & Miten with Manose - Gayatri Mant...       main\n",
      "29       24  Yeha Noha (Wishes Of Happiness And Prosperity)...       main\n",
      "30       29  Claire Hamill - Winter - Icicle Rain-_mH_TQgj8...       main\n",
      "31       38  Mari Boine - Vuoi Vuoi Mu (Vuoi Vuoi Me)-NyB90...       main\n",
      "33       47            Ethnicolor (Remastered)-rDLUVaqCP0A.mp4       main\n",
      "34       52  Mari Boine -  Dás Áiggun Cuozzut (Orbina)-2peN...       main\n",
      "37       21           The Soul Force (Veeresh)-_8MMaFVzm3Y.mp4     finish\n",
      "38       30           Celtic Woman - The Voice-SdFHGFkyew4.mp4     finish\n",
      "Do you like what you see? y/any > \n",
      "    song_id                                         song_title song_class\n",
      "22       37  Tenacious D Beelzeboss with lyrics-vOBKxUT9Da4...      intro\n",
      "24       40  Tangerine Dream - Ricochet (State Azure Cover)...      intro\n",
      "28       20  Deva Premal & Miten with Manose - Gayatri Mant...       main\n",
      "29       24  Yeha Noha (Wishes Of Happiness And Prosperity)...       main\n",
      "31       38  Mari Boine - Vuoi Vuoi Mu (Vuoi Vuoi Me)-NyB90...       main\n",
      "32       45  Our sacred earth www.tantra4jou.nl like this-j...       main\n",
      "33       47            Ethnicolor (Remastered)-rDLUVaqCP0A.mp4       main\n",
      "34       52  Mari Boine -  Dás Áiggun Cuozzut (Orbina)-2peN...       main\n",
      "41       53                     Gidge - Quasar-JCw4iLthzlQ.mp4       main\n",
      "38       30           Celtic Woman - The Voice-SdFHGFkyew4.mp4     finish\n",
      "40       50                Blur - Caramel - 13-nDbRIMfUMBY.mp4     finish\n"
     ]
    },
    {
     "ename": "KeyboardInterrupt",
     "evalue": "Interrupted by user",
     "output_type": "error",
     "traceback": [
      "\u001b[0;31m---------------------------------------------------------------------------\u001b[0m",
      "\u001b[0;31mKeyboardInterrupt\u001b[0m                         Traceback (most recent call last)",
      "\u001b[0;32m<ipython-input-29-f46129671dc9>\u001b[0m in \u001b[0;36m<module>\u001b[0;34m\u001b[0m\n\u001b[1;32m     10\u001b[0m \u001b[0;34m\u001b[0m\u001b[0m\n\u001b[1;32m     11\u001b[0m     \u001b[0mprint\u001b[0m\u001b[0;34m(\u001b[0m\u001b[0mdff2\u001b[0m\u001b[0;34m[\u001b[0m\u001b[0;34m[\u001b[0m\u001b[0;34m\"song_id\"\u001b[0m\u001b[0;34m,\u001b[0m\u001b[0;34m\"song_title\"\u001b[0m\u001b[0;34m,\u001b[0m\u001b[0;34m\"song_class\"\u001b[0m\u001b[0;34m]\u001b[0m\u001b[0;34m]\u001b[0m\u001b[0;34m)\u001b[0m\u001b[0;34m\u001b[0m\u001b[0;34m\u001b[0m\u001b[0m\n\u001b[0;32m---> 12\u001b[0;31m     \u001b[0mcont\u001b[0m \u001b[0;34m=\u001b[0m \u001b[0minput\u001b[0m\u001b[0;34m(\u001b[0m\u001b[0;34m\"Do you like what you see? y/any > \"\u001b[0m\u001b[0;34m)\u001b[0m\u001b[0;34m\u001b[0m\u001b[0;34m\u001b[0m\u001b[0m\n\u001b[0m\u001b[1;32m     13\u001b[0m     \u001b[0;32mwhile\u001b[0m \u001b[0mcont\u001b[0m\u001b[0;34m.\u001b[0m\u001b[0mlower\u001b[0m\u001b[0;34m(\u001b[0m\u001b[0;34m)\u001b[0m \u001b[0;32mnot\u001b[0m \u001b[0;32min\u001b[0m \u001b[0;34m(\u001b[0m\u001b[0;34m\"y\"\u001b[0m\u001b[0;34m)\u001b[0m\u001b[0;34m:\u001b[0m\u001b[0;34m\u001b[0m\u001b[0;34m\u001b[0m\u001b[0m\n\u001b[1;32m     14\u001b[0m         \u001b[0mcont\u001b[0m \u001b[0;34m=\u001b[0m \u001b[0minput\u001b[0m\u001b[0;34m(\u001b[0m\u001b[0;34m\"Do you like what you see? y/any > \"\u001b[0m\u001b[0;34m)\u001b[0m\u001b[0;34m\u001b[0m\u001b[0;34m\u001b[0m\u001b[0m\n",
      "\u001b[0;32m~/opt/anaconda3/envs/psycopg2/lib/python3.8/site-packages/ipykernel/kernelbase.py\u001b[0m in \u001b[0;36mraw_input\u001b[0;34m(self, prompt)\u001b[0m\n\u001b[1;32m    858\u001b[0m                 \u001b[0;34m\"raw_input was called, but this frontend does not support input requests.\"\u001b[0m\u001b[0;34m\u001b[0m\u001b[0;34m\u001b[0m\u001b[0m\n\u001b[1;32m    859\u001b[0m             )\n\u001b[0;32m--> 860\u001b[0;31m         return self._input_request(str(prompt),\n\u001b[0m\u001b[1;32m    861\u001b[0m             \u001b[0mself\u001b[0m\u001b[0;34m.\u001b[0m\u001b[0m_parent_ident\u001b[0m\u001b[0;34m,\u001b[0m\u001b[0;34m\u001b[0m\u001b[0;34m\u001b[0m\u001b[0m\n\u001b[1;32m    862\u001b[0m             \u001b[0mself\u001b[0m\u001b[0;34m.\u001b[0m\u001b[0m_parent_header\u001b[0m\u001b[0;34m,\u001b[0m\u001b[0;34m\u001b[0m\u001b[0;34m\u001b[0m\u001b[0m\n",
      "\u001b[0;32m~/opt/anaconda3/envs/psycopg2/lib/python3.8/site-packages/ipykernel/kernelbase.py\u001b[0m in \u001b[0;36m_input_request\u001b[0;34m(self, prompt, ident, parent, password)\u001b[0m\n\u001b[1;32m    902\u001b[0m             \u001b[0;32mexcept\u001b[0m \u001b[0mKeyboardInterrupt\u001b[0m\u001b[0;34m:\u001b[0m\u001b[0;34m\u001b[0m\u001b[0;34m\u001b[0m\u001b[0m\n\u001b[1;32m    903\u001b[0m                 \u001b[0;31m# re-raise KeyboardInterrupt, to truncate traceback\u001b[0m\u001b[0;34m\u001b[0m\u001b[0;34m\u001b[0m\u001b[0;34m\u001b[0m\u001b[0m\n\u001b[0;32m--> 904\u001b[0;31m                 \u001b[0;32mraise\u001b[0m \u001b[0mKeyboardInterrupt\u001b[0m\u001b[0;34m(\u001b[0m\u001b[0;34m\"Interrupted by user\"\u001b[0m\u001b[0;34m)\u001b[0m \u001b[0;32mfrom\u001b[0m \u001b[0;32mNone\u001b[0m\u001b[0;34m\u001b[0m\u001b[0;34m\u001b[0m\u001b[0m\n\u001b[0m\u001b[1;32m    905\u001b[0m             \u001b[0;32mexcept\u001b[0m \u001b[0mException\u001b[0m \u001b[0;32mas\u001b[0m \u001b[0me\u001b[0m\u001b[0;34m:\u001b[0m\u001b[0;34m\u001b[0m\u001b[0;34m\u001b[0m\u001b[0m\n\u001b[1;32m    906\u001b[0m                 \u001b[0mself\u001b[0m\u001b[0;34m.\u001b[0m\u001b[0mlog\u001b[0m\u001b[0;34m.\u001b[0m\u001b[0mwarning\u001b[0m\u001b[0;34m(\u001b[0m\u001b[0;34m\"Invalid Message:\"\u001b[0m\u001b[0;34m,\u001b[0m \u001b[0mexc_info\u001b[0m\u001b[0;34m=\u001b[0m\u001b[0;32mTrue\u001b[0m\u001b[0;34m)\u001b[0m\u001b[0;34m\u001b[0m\u001b[0;34m\u001b[0m\u001b[0m\n",
      "\u001b[0;31mKeyboardInterrupt\u001b[0m: Interrupted by user"
     ]
    }
   ],
   "source": [
    "# pick only some\n",
    "while True:\n",
    "    df = dataframe\n",
    "    df1 = df[df.song_class == \"intro\"].sample(n=2).sort_values(\"song_id\")\n",
    "    df2 = df[df.song_class == \"main\"].sample(n=7).sort_values(\"song_id\")\n",
    "    df3 = df[df.song_class == \"finish\"].sample(n=2).sort_values(\"song_id\")\n",
    "\n",
    "    dff1 = pd.concat([df1,df2,df3])\n",
    "    dff2 = dff1.drop(columns=['song_added','song_notes'])\n",
    "\n",
    "    print(dff2[[\"song_id\",\"song_title\",\"song_class\"]])\n",
    "    cont = input(\"Do you like what you see? y/any > \")\n",
    "    while cont.lower() not in (\"y\"):\n",
    "        cont = input(\"Do you like what you see? y/any > \")\n",
    "    if cont == \"y\":\n",
    "        break\n",
    "\n"
   ]
  },
  {
   "cell_type": "code",
   "execution_count": null,
   "id": "c1faa668",
   "metadata": {},
   "outputs": [],
   "source": []
  },
  {
   "cell_type": "code",
   "execution_count": 4,
   "id": "04dfead1",
   "metadata": {},
   "outputs": [
    {
     "name": "stdout",
     "output_type": "stream",
     "text": [
      "Data inserted using execute_batch() successfully...\n"
     ]
    }
   ],
   "source": [
    "# https://medium.com/analytics-vidhya/part-4-pandas-dataframe-to-postgresql-using-python-8ffdb0323c09\n",
    "# Define a function that handles and parses psycopg2 exceptions\n",
    "def show_psycopg2_exception(err):\n",
    "    # get details about the exception\n",
    "    err_type, err_obj, traceback = sys.exc_info()    \n",
    "    # get the line number when exception occured\n",
    "    line_n = traceback.tb_lineno    \n",
    "    # print the connect() error\n",
    "    print (\"\\npsycopg2 ERROR:\", err, \"on line number:\", line_n)\n",
    "    print (\"psycopg2 traceback:\", traceback, \"-- type:\", err_type) \n",
    "    # psycopg2 extensions.Diagnostics object attribute\n",
    "    #print (\"\\nextensions.Diagnostics:\", err.diag)    \n",
    "    # print the pgcode and pgerror exceptions\n",
    "    #print (\"pgerror:\", err.pgerror)\n",
    "    #print (\"pgcode:\", err.pgcode, \"\\n\")\n",
    "\n",
    "# Define function using psycopg2.extras.execute_batch() to insert the dataframe\n",
    "def execute_batch(conn, datafrm, table, page_size=150):\n",
    "    \n",
    "    # Creating a list of tupples from the dataframe values\n",
    "    tpls = [tuple(x) for x in datafrm.to_numpy()]\n",
    "    \n",
    "    # dataframe columns with Comma-separated\n",
    "    cols = ','.join(list(datafrm.columns))\n",
    "    \n",
    "    # SQL query to execute\n",
    "    sql = \"INSERT INTO %s(%s) VALUES(%%s,%%s,%%s,%%s,%%s)\" % (table, cols)\n",
    "    cursor = conn.cursor()\n",
    "    try:\n",
    "        extras.execute_batch(cursor, sql, tpls, page_size)\n",
    "        print(\"Data inserted using execute_batch() successfully...\")\n",
    "    except (Exception, pg.DatabaseError) as err:\n",
    "        # pass exception to function\n",
    "        show_psycopg2_exception(err)\n",
    "        cursor.close()\n",
    "        \n",
    "execute_batch(conn=connection, datafrm=dff2, table=\"playlist\", page_size=150)"
   ]
  },
  {
   "cell_type": "code",
   "execution_count": 5,
   "id": "d568f0f6",
   "metadata": {},
   "outputs": [],
   "source": [
    "# tired to add the playlist_id along the dataframe update, \n",
    "# newly added playlist will have this column values set to null, so it is easy to update it\n",
    "\n",
    "cursor = connection.cursor()\n",
    "cursor.execute(f\"update playlist set playlist_id = {playlist_seq}, playlist_added = now() where playlist_id is null;\")\n",
    "cursor.close()"
   ]
  }
 ],
 "metadata": {
  "kernelspec": {
   "display_name": "Python 3",
   "language": "python",
   "name": "python3"
  },
  "language_info": {
   "codemirror_mode": {
    "name": "ipython",
    "version": 3
   },
   "file_extension": ".py",
   "mimetype": "text/x-python",
   "name": "python",
   "nbconvert_exporter": "python",
   "pygments_lexer": "ipython3",
   "version": "3.8.5"
  }
 },
 "nbformat": 4,
 "nbformat_minor": 5
}
